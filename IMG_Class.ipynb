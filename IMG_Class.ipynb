{
  "nbformat": 4,
  "nbformat_minor": 0,
  "metadata": {
    "colab": {
      "provenance": [],
      "authorship_tag": "ABX9TyP7b5lPDiB456Q16wUvxDOl",
      "include_colab_link": true
    },
    "kernelspec": {
      "name": "python3",
      "display_name": "Python 3"
    },
    "language_info": {
      "name": "python"
    }
  },
  "cells": [
    {
      "cell_type": "markdown",
      "metadata": {
        "id": "view-in-github",
        "colab_type": "text"
      },
      "source": [
        "<a href=\"https://colab.research.google.com/github/Shankars57/Deep_Learning/blob/main/IMG_Class.ipynb\" target=\"_parent\"><img src=\"https://colab.research.google.com/assets/colab-badge.svg\" alt=\"Open In Colab\"/></a>"
      ]
    },
    {
      "cell_type": "code",
      "execution_count": null,
      "metadata": {
        "id": "PHP19jiMGWp9"
      },
      "outputs": [],
      "source": [
        "import tensorflow as tf\n",
        "import tensorflow_datasets as tfds\n",
        "import numpy as np\n",
        "import matplotlib.pyplot as plt\n",
        "\n",
        "# Load the cats_vs_dogs dataset\n",
        "dataset_name = \"cats_vs_dogs\"\n",
        "dataset, info = tfds.load(dataset_name, as_supervised=True, with_info=True)\n",
        "\n",
        "train_data = dataset['train'].take(5000)\n",
        "val_data = dataset['train'].skip(20000).take(1000)  # Next 5000 for validation\n",
        "\n",
        "# Preprocess function\n",
        "def preprocess(image, label):\n",
        "    image = tf.image.resize(image, (224, 224))\n",
        "    image = image / 255.0  # Normalize pixel values to [0,1]\n",
        "    return image, label\n",
        "\n",
        "# Apply preprocessing and batching\n",
        "train_data = train_data.map(preprocess).batch(128).shuffle(1000)\n",
        "val_data = val_data.map(preprocess).batch(128)\n",
        "\n",
        "# Define the model\n",
        "model = tf.keras.Sequential([\n",
        "    tf.keras.layers.Conv2D(32, (3, 3), activation='relu', input_shape=(224, 224, 3), padding=\"same\"),\n",
        "    tf.keras.layers.MaxPooling2D(2, 2),\n",
        "\n",
        "    tf.keras.layers.Conv2D(64, (3, 3), activation='relu', padding=\"same\"),\n",
        "    tf.keras.layers.MaxPooling2D(2, 2),\n",
        "\n",
        "    tf.keras.layers.Conv2D(128, (3, 3), activation='relu', padding=\"same\"),\n",
        "    tf.keras.layers.MaxPooling2D(2, 2),\n",
        "\n",
        "    tf.keras.layers.Conv2D(256, (3, 3), activation='relu', padding=\"same\"),\n",
        "    tf.keras.layers.MaxPooling2D(2, 2),\n",
        "\n",
        "    tf.keras.layers.Flatten(),\n",
        "    tf.keras.layers.Dense(4096, activation='relu'),\n",
        "    tf.keras.layers.Dropout(0.5),\n",
        "    tf.keras.layers.Dense(1000, activation='relu'),\n",
        "    tf.keras.layers.Dropout(0.5),\n",
        "    tf.keras.layers.Dense(1, activation='sigmoid')  # Binary classification output\n",
        "])\n",
        "\n",
        "# Compile the model\n",
        "model.compile(optimizer='adam', loss='binary_crossentropy', metrics=['accuracy'])\n",
        "\n",
        "# Train the model\n",
        "history = model.fit(train_data, validation_data=val_data, epochs=3)\n",
        "\n",
        "# Evaluate the model\n",
        "loss, acc = model.evaluate(val_data)\n",
        "print(f\"\\nValidation Accuracy: {acc * 100:.2f}%\")\n",
        "\n",
        "# Function to display a predicted image\n",
        "def show_prediction():\n",
        "    image, label = next(iter(val_data))  # Get a batch from the validation data\n",
        "    img = image[0].numpy()  # Convert tensor to numpy array\n",
        "    true_label = label[0].numpy()\n",
        "\n",
        "    # Make prediction\n",
        "    prediction = model.predict(tf.expand_dims(image[0], axis=0))  # Add batch dimension\n",
        "    predicted_label = \"Dog\" if prediction[0][0] > 0.5 else \"Cat\"\n",
        "\n",
        "    # Display the image with predicted and actual labels\n",
        "    plt.imshow(img)\n",
        "    plt.title(f\"Predicted: {predicted_label}, Actual: {'Dog' if true_label else 'Cat'}\")\n",
        "    plt.axis(\"off\")\n",
        "    plt.show()\n",
        "\n",
        "# Show a random predicted image\n",
        "show_prediction()\n"
      ]
    }
  ]
}